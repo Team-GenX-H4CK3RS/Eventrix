{
  "nbformat": 4,
  "nbformat_minor": 0,
  "metadata": {
    "colab": {
      "provenance": []
    },
    "kernelspec": {
      "name": "python3",
      "display_name": "Python 3"
    },
    "language_info": {
      "name": "python"
    }
  },
  "cells": [
    {
      "cell_type": "code",
      "execution_count": 29,
      "metadata": {
        "colab": {
          "base_uri": "https://localhost:8080/"
        },
        "id": "D4w-RXNqaHx_",
        "outputId": "0ebe9713-4331-4cf6-8092-2f9ba96cf5a7"
      },
      "outputs": [
        {
          "output_type": "stream",
          "name": "stdout",
          "text": [
            "Requirement already satisfied: twilio in /usr/local/lib/python3.11/dist-packages (9.4.6)\n",
            "Requirement already satisfied: requests>=2.0.0 in /usr/local/lib/python3.11/dist-packages (from twilio) (2.32.3)\n",
            "Requirement already satisfied: PyJWT<3.0.0,>=2.0.0 in /usr/local/lib/python3.11/dist-packages (from twilio) (2.10.1)\n",
            "Requirement already satisfied: aiohttp>=3.8.4 in /usr/local/lib/python3.11/dist-packages (from twilio) (3.11.12)\n",
            "Requirement already satisfied: aiohttp-retry>=2.8.3 in /usr/local/lib/python3.11/dist-packages (from twilio) (2.9.1)\n",
            "Requirement already satisfied: aiohappyeyeballs>=2.3.0 in /usr/local/lib/python3.11/dist-packages (from aiohttp>=3.8.4->twilio) (2.4.6)\n",
            "Requirement already satisfied: aiosignal>=1.1.2 in /usr/local/lib/python3.11/dist-packages (from aiohttp>=3.8.4->twilio) (1.3.2)\n",
            "Requirement already satisfied: attrs>=17.3.0 in /usr/local/lib/python3.11/dist-packages (from aiohttp>=3.8.4->twilio) (25.1.0)\n",
            "Requirement already satisfied: frozenlist>=1.1.1 in /usr/local/lib/python3.11/dist-packages (from aiohttp>=3.8.4->twilio) (1.5.0)\n",
            "Requirement already satisfied: multidict<7.0,>=4.5 in /usr/local/lib/python3.11/dist-packages (from aiohttp>=3.8.4->twilio) (6.1.0)\n",
            "Requirement already satisfied: propcache>=0.2.0 in /usr/local/lib/python3.11/dist-packages (from aiohttp>=3.8.4->twilio) (0.2.1)\n",
            "Requirement already satisfied: yarl<2.0,>=1.17.0 in /usr/local/lib/python3.11/dist-packages (from aiohttp>=3.8.4->twilio) (1.18.3)\n",
            "Requirement already satisfied: charset-normalizer<4,>=2 in /usr/local/lib/python3.11/dist-packages (from requests>=2.0.0->twilio) (3.4.1)\n",
            "Requirement already satisfied: idna<4,>=2.5 in /usr/local/lib/python3.11/dist-packages (from requests>=2.0.0->twilio) (3.10)\n",
            "Requirement already satisfied: urllib3<3,>=1.21.1 in /usr/local/lib/python3.11/dist-packages (from requests>=2.0.0->twilio) (2.3.0)\n",
            "Requirement already satisfied: certifi>=2017.4.17 in /usr/local/lib/python3.11/dist-packages (from requests>=2.0.0->twilio) (2025.1.31)\n"
          ]
        }
      ],
      "source": [
        "!pip install twilio"
      ]
    },
    {
      "cell_type": "markdown",
      "source": [
        "**Whatsapp notification**"
      ],
      "metadata": {
        "id": "t1n8fGydgnHp"
      }
    },
    {
      "cell_type": "code",
      "source": [
        "from twilio.rest import Client\n",
        "\n",
        "account_sid = 'ACfde97a5bd4929cbccd69e0e780748ecf'\n",
        "auth_token = '87704168c22b3b05b51e93219e7f8dfc'\n",
        "client = Client(account_sid, auth_token)\n",
        "\n",
        "message = client.messages.create(\n",
        "  body=\"Whatsapp Event reminder!!!!\",  # Your message\n",
        "  from_='whatsapp:+14155238886',\n",
        "  # content_sid='HXb5b62575e6e4ff6129ad7c8efe1f983e',\n",
        "  # content_variables='{\"1\":\"12/1\",\"2\":\"3pm\"}',\n",
        "  to='whatsapp:+917550293777'\n",
        ")\n",
        "\n",
        "print(message.sid)"
      ],
      "metadata": {
        "colab": {
          "base_uri": "https://localhost:8080/"
        },
        "id": "PmxVwbQ9DtTs",
        "outputId": "ff9361e7-855c-40ad-c7f3-f8195cb7529f"
      },
      "execution_count": 31,
      "outputs": [
        {
          "output_type": "stream",
          "name": "stdout",
          "text": [
            "SM6e63b1b544c8d711ee9c802375934c02\n"
          ]
        }
      ]
    },
    {
      "cell_type": "markdown",
      "source": [
        "**SMS Notification**"
      ],
      "metadata": {
        "id": "JhhIdJ3Igtz_"
      }
    },
    {
      "cell_type": "code",
      "source": [
        "from twilio.rest import Client\n",
        "\n",
        "# Replace with your Twilio credentials\n",
        "account_sid = 'ACfde97a5bd4929cbccd69e0e780748ecf'  # Your Account SID\n",
        "auth_token = '87704168c22b3b05b51e93219e7f8dfc'     # Your Auth Token\n",
        "client = Client(account_sid, auth_token)\n",
        "\n",
        "# Send an SMS\n",
        "message = client.messages.create(\n",
        "    body=\"SMS Notification - Event reminder (offline capabilities achieved) !!!!\",  # Your message\n",
        "    from_='+17249954675',        # Your Twilio phone number (must be purchased)\n",
        "    to='+917550293777'          # Recipient's phone number\n",
        ")\n",
        "\n",
        "print(message.sid)"
      ],
      "metadata": {
        "colab": {
          "base_uri": "https://localhost:8080/"
        },
        "id": "JSn3_NgKczhF",
        "outputId": "ab6d5208-1ba9-4c2d-e9b9-dd53300d32a7"
      },
      "execution_count": 32,
      "outputs": [
        {
          "output_type": "stream",
          "name": "stdout",
          "text": [
            "SMb3ee0ded5c950277ed9ea3fa775a5fe2\n"
          ]
        }
      ]
    },
    {
      "cell_type": "markdown",
      "source": [
        "**For Call Notification to notify about the event renminders**"
      ],
      "metadata": {
        "id": "3qQcm2gYjsXf"
      }
    },
    {
      "cell_type": "code",
      "source": [
        "from twilio.rest import Client\n",
        "\n",
        "# Replace with your Twilio credentials\n",
        "account_sid = 'ACfde97a5bd4929cbccd69e0e780748ecf'  # Your Account SID\n",
        "auth_token = '87704168c22b3b05b51e93219e7f8dfc'     # Your Auth Token\n",
        "client = Client(account_sid, auth_token)\n",
        "\n",
        "# Make a phone call\n",
        "call = client.calls.create(\n",
        "    url='http://demo.twilio.com/docs/voice.xml',  # TwiML URL for the call\n",
        "    to='+917550293777',                          # Recipient's phone number\n",
        "    from_='+17249954675'                         # Your Twilio phone number\n",
        ")\n",
        "\n",
        "print(call.sid)"
      ],
      "metadata": {
        "colab": {
          "base_uri": "https://localhost:8080/"
        },
        "id": "IqwdqyPmgfZ6",
        "outputId": "8407780d-3985-4775-a229-e8db04d91346"
      },
      "execution_count": 33,
      "outputs": [
        {
          "output_type": "stream",
          "name": "stdout",
          "text": [
            "CAf7d9957d563fe53b5dae8c956cac3c0e\n"
          ]
        }
      ]
    },
    {
      "cell_type": "code",
      "source": [],
      "metadata": {
        "id": "8cnFkcZMjnQY"
      },
      "execution_count": null,
      "outputs": []
    }
  ]
}