{
  "cells": [
    {
      "cell_type": "code",
      "execution_count": 13,
      "metadata": {
        "colab": {
          "base_uri": "https://localhost:8080/",
          "height": 770
        },
        "id": "Ry7T33gzY1Zw",
        "outputId": "40fc8c2c-dcef-489b-cf80-2f45f8a399fa"
      },
      "outputs": [
        {
          "output_type": "stream",
          "name": "stdout",
          "text": [
            "Requirement already satisfied: googletrans==4.0.0-rc1 in /usr/local/lib/python3.11/dist-packages (4.0.0rc1)\n",
            "Collecting httpx==0.13.3 (from googletrans==4.0.0-rc1)\n",
            "  Using cached httpx-0.13.3-py3-none-any.whl.metadata (25 kB)\n",
            "Requirement already satisfied: certifi in /usr/local/lib/python3.11/dist-packages (from httpx==0.13.3->googletrans==4.0.0-rc1) (2025.1.31)\n",
            "Requirement already satisfied: hstspreload in /usr/local/lib/python3.11/dist-packages (from httpx==0.13.3->googletrans==4.0.0-rc1) (2025.1.1)\n",
            "Requirement already satisfied: sniffio in /usr/local/lib/python3.11/dist-packages (from httpx==0.13.3->googletrans==4.0.0-rc1) (1.3.1)\n",
            "Requirement already satisfied: chardet==3.* in /usr/local/lib/python3.11/dist-packages (from httpx==0.13.3->googletrans==4.0.0-rc1) (3.0.4)\n",
            "Requirement already satisfied: idna==2.* in /usr/local/lib/python3.11/dist-packages (from httpx==0.13.3->googletrans==4.0.0-rc1) (2.10)\n",
            "Requirement already satisfied: rfc3986<2,>=1.3 in /usr/local/lib/python3.11/dist-packages (from httpx==0.13.3->googletrans==4.0.0-rc1) (1.5.0)\n",
            "Collecting httpcore==0.9.* (from httpx==0.13.3->googletrans==4.0.0-rc1)\n",
            "  Using cached httpcore-0.9.1-py3-none-any.whl.metadata (4.6 kB)\n",
            "Collecting h11<0.10,>=0.8 (from httpcore==0.9.*->httpx==0.13.3->googletrans==4.0.0-rc1)\n",
            "  Using cached h11-0.9.0-py2.py3-none-any.whl.metadata (8.1 kB)\n",
            "Requirement already satisfied: h2==3.* in /usr/local/lib/python3.11/dist-packages (from httpcore==0.9.*->httpx==0.13.3->googletrans==4.0.0-rc1) (3.2.0)\n",
            "Requirement already satisfied: hyperframe<6,>=5.2.0 in /usr/local/lib/python3.11/dist-packages (from h2==3.*->httpcore==0.9.*->httpx==0.13.3->googletrans==4.0.0-rc1) (5.2.0)\n",
            "Requirement already satisfied: hpack<4,>=3.0 in /usr/local/lib/python3.11/dist-packages (from h2==3.*->httpcore==0.9.*->httpx==0.13.3->googletrans==4.0.0-rc1) (3.0.0)\n",
            "Using cached httpx-0.13.3-py3-none-any.whl (55 kB)\n",
            "Using cached httpcore-0.9.1-py3-none-any.whl (42 kB)\n",
            "Using cached h11-0.9.0-py2.py3-none-any.whl (53 kB)\n",
            "Installing collected packages: h11, httpcore, httpx\n",
            "  Attempting uninstall: h11\n",
            "    Found existing installation: h11 0.14.0\n",
            "    Uninstalling h11-0.14.0:\n",
            "      Successfully uninstalled h11-0.14.0\n",
            "  Attempting uninstall: httpcore\n",
            "    Found existing installation: httpcore 1.0.7\n",
            "    Uninstalling httpcore-1.0.7:\n",
            "      Successfully uninstalled httpcore-1.0.7\n",
            "  Attempting uninstall: httpx\n",
            "    Found existing installation: httpx 0.28.1\n",
            "    Uninstalling httpx-0.28.1:\n",
            "      Successfully uninstalled httpx-0.28.1\n",
            "\u001b[31mERROR: pip's dependency resolver does not currently take into account all the packages that are installed. This behaviour is the source of the following dependency conflicts.\n",
            "litellm 1.61.15 requires httpx>=0.23.0, but you have httpx 0.13.3 which is incompatible.\n",
            "openai 1.61.1 requires httpx<1,>=0.23.0, but you have httpx 0.13.3 which is incompatible.\u001b[0m\u001b[31m\n",
            "\u001b[0mSuccessfully installed h11-0.9.0 httpcore-0.9.1 httpx-0.13.3\n"
          ]
        },
        {
          "output_type": "display_data",
          "data": {
            "application/vnd.colab-display-data+json": {
              "pip_warning": {
                "packages": [
                  "h11",
                  "httpcore",
                  "httpx"
                ]
              },
              "id": "b100b6643fd347cb92fdf6e4b6d5d07e"
            }
          },
          "metadata": {}
        }
      ],
      "source": [
        "!pip install googletrans==4.0.0-rc1"
      ]
    },
    {
      "cell_type": "code",
      "execution_count": 15,
      "metadata": {
        "colab": {
          "base_uri": "https://localhost:8080/"
        },
        "id": "dGujAfaYZGge",
        "outputId": "83805d2a-b36b-47f2-e922-94c8783b6587"
      },
      "outputs": [
        {
          "output_type": "stream",
          "name": "stdout",
          "text": [
            "வணக்கம், நீங்கள் என்ன செய்கிறீர்கள்?\n"
          ]
        }
      ],
      "source": [
        "from googletrans import Translator\n",
        "\n",
        "# Initialize the translator\n",
        "translator = Translator()\n",
        "\n",
        "# Translate text\n",
        "translated = translator.translate('Hello, what do you do?', dest='ta')\n",
        "\n",
        "# Print the translated text\n",
        "print(translated.text)"
      ]
    },
    {
      "cell_type": "code",
      "execution_count": 16,
      "metadata": {
        "colab": {
          "base_uri": "https://localhost:8080/"
        },
        "id": "rgbyvgFvZO3Y",
        "outputId": "bdbbe119-8073-4fe8-9b76-046a88d9e615"
      },
      "outputs": [
        {
          "output_type": "stream",
          "name": "stdout",
          "text": [
            "გამარჯობა, როგორ ხარ?\n"
          ]
        }
      ],
      "source": [
        "translated = translator.translate('Hello, how are you?', dest='ka')\n",
        "print(translated.text)"
      ]
    },
    {
      "cell_type": "code",
      "execution_count": 17,
      "metadata": {
        "colab": {
          "base_uri": "https://localhost:8080/"
        },
        "id": "vdBSXBR3ZS94",
        "outputId": "5015fd77-e6c1-45e2-8551-1a9adb4f4722"
      },
      "outputs": [
        {
          "output_type": "stream",
          "name": "stdout",
          "text": [
            "வரவேற்கிறோம்\n",
            "என்ன கனா?\n",
            "காலை வணக்கம்\n"
          ]
        }
      ],
      "source": [
        "Input=[\"Welcome\",\"Whats up dude?\",\"Good Morning\"]\n",
        "\n",
        "translator=Translator()\n",
        "\n",
        "for i in Input:\n",
        "  translated=translator.translate(i,dest=\"ta\")\n",
        "  print(translated.text)"
      ]
    },
    {
      "cell_type": "code",
      "execution_count": 20,
      "metadata": {
        "colab": {
          "base_uri": "https://localhost:8080/",
          "height": 510
        },
        "id": "NaJWDh1ec33g",
        "outputId": "8ef55691-2423-4fd4-cb74-1eeed2cbdd75"
      },
      "outputs": [
        {
          "name": "stdout",
          "output_type": "stream",
          "text": [
            "Available Indian Languages:\n",
            "1: Bengali (bn)\n",
            "2: Gujarati (gu)\n",
            "3: Hindi (hi)\n",
            "4: Kannada (kn)\n",
            "5: Malayalam (ml)\n",
            "6: Marathi (mr)\n",
            "7: Nepali (ne)\n",
            "8: Punjabi (pa)\n",
            "9: Telugu (te)\n",
            "10: Urdu (ur)\n",
            "11: Arabic (ar)\n",
            "12: English (en)\n",
            "13: Tamil (ta)\n",
            "14: French (fr)\n",
            "15: German (de)\n",
            "16: Italian (it)\n",
            "17: Japanese (ja)\n",
            "18: Korean (ko)\n",
            "19: Russian (ru)\n",
            "20: Spanish (es)\n",
            "21: Chinese (zh-CN)\n",
            "Select the language by entering the corresponding number: 6\n",
            "Enter the text you want to convert to speech: hello how are you?\n"
          ]
        },
        {
          "output_type": "display_data",
          "data": {
            "text/plain": [
              "<IPython.lib.display.Audio object>"
            ],
            "text/html": [
              "\n",
              "                <audio  controls=\"controls\" autoplay=\"autoplay\">\n",
              "                    <source src=\"data:audio/mpeg;base64,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\" type=\"audio/mpeg\" />\n",
              "                    Your browser does not support the audio element.\n",
              "                </audio>\n",
              "              "
            ]
          },
          "metadata": {}
        }
      ],
      "source": [
        "from gtts import gTTS\n",
        "from googletrans import Translator\n",
        "from IPython.display import Audio, display\n",
        "\n",
        "def text_to_speech_in_language():\n",
        "    \"\"\"\n",
        "    This function displays a refined menu of Indian language codes with language names,\n",
        "    asks the user to select one, and then converts the input text to speech in the selected language.\n",
        "    \"\"\"\n",
        "    language_menu = {\n",
        "        '1': ('Bengali', 'bn'),\n",
        "        '2': ('Gujarati', 'gu'),\n",
        "        '3': ('Hindi', 'hi'),\n",
        "        '4': ('Kannada', 'kn'),\n",
        "        '5': ('Malayalam', 'ml'),\n",
        "        '6': ('Marathi', 'mr'),\n",
        "        '7': ('Nepali', 'ne'),\n",
        "        '8': ('Punjabi', 'pa'),\n",
        "        '9': ('Telugu', 'te'),\n",
        "        '10': ('Urdu', 'ur'),\n",
        "        '11': ('Arabic', 'ar'),\n",
        "        '12': ('English', 'en'),\n",
        "        '13': ('Tamil', 'ta'),\n",
        "        '14': ('French','fr'),\n",
        "        '15': ('German','de'),\n",
        "        '16': ('Italian','it'),\n",
        "        '17': ('Japanese','ja'),\n",
        "        '18': ('Korean','ko'),\n",
        "        '19': ('Russian','ru'),\n",
        "        '20': ('Spanish','es'),\n",
        "        '21': ('Chinese','zh-CN')\n",
        "    }\n",
        "\n",
        "    # Display refined menu\n",
        "    print(\"Available Indian Languages:\")\n",
        "    for key, (name, code) in language_menu.items():\n",
        "        print(f\"{key}: {name} ({code})\")\n",
        "\n",
        "    # Get user input for language choice\n",
        "    choice = input(\"Select the language by entering the corresponding number: \")\n",
        "    language_info = language_menu.get(choice, ('English', 'en'))  # Default to English if invalid choice\n",
        "    language_name, language_code = language_info\n",
        "\n",
        "    # Input text\n",
        "    text = input(\"Enter the text you want to convert to speech: \")\n",
        "\n",
        "    # Initialize the Translator\n",
        "    translator = Translator()\n",
        "\n",
        "    # Translate the text to the desired language\n",
        "    translated_text = translator.translate(text, dest=language_code).text\n",
        "\n",
        "    # Generate the speech in the specified language\n",
        "    tts = gTTS(translated_text, lang=language_code)\n",
        "\n",
        "    # Save the speech to an MP3 file\n",
        "    tts.save(\"output_audio.mp3\")\n",
        "\n",
        "    # Play the audio file\n",
        "    display(Audio(\"output_audio.mp3\", autoplay=True))\n",
        "\n",
        "# Call the function\n",
        "text_to_speech_in_language()\n"
      ]
    },
    {
      "cell_type": "code",
      "source": [
        "!pip install lyzr\n",
        "!pip install --upgrade httpx\n",
        "!pip install BaseTransport"
      ],
      "metadata": {
        "colab": {
          "base_uri": "https://localhost:8080/"
        },
        "id": "riQr68UqqMmi",
        "outputId": "2ccd4e47-129b-4f8c-f706-508fb3205805"
      },
      "execution_count": 11,
      "outputs": [
        {
          "output_type": "stream",
          "name": "stdout",
          "text": [
            "Requirement already satisfied: lyzr in /usr/local/lib/python3.11/dist-packages (0.1.43)\n",
            "Requirement already satisfied: openai in /usr/local/lib/python3.11/dist-packages (from lyzr) (1.61.1)\n",
            "Requirement already satisfied: litellm in /usr/local/lib/python3.11/dist-packages (from lyzr) (1.61.15)\n",
            "Requirement already satisfied: asyncio in /usr/local/lib/python3.11/dist-packages (from lyzr) (3.4.3)\n",
            "Requirement already satisfied: aenum in /usr/local/lib/python3.11/dist-packages (from lyzr) (3.1.15)\n",
            "Requirement already satisfied: nest-asyncio in /usr/local/lib/python3.11/dist-packages (from lyzr) (1.6.0)\n",
            "Requirement already satisfied: llama-index==0.9.4 in /usr/local/lib/python3.11/dist-packages (from lyzr) (0.9.4)\n",
            "Requirement already satisfied: langchain==0.0.339 in /usr/local/lib/python3.11/dist-packages (from lyzr) (0.0.339)\n",
            "Requirement already satisfied: python-dotenv>=1.0.0 in /usr/local/lib/python3.11/dist-packages (from lyzr) (1.0.1)\n",
            "Requirement already satisfied: beautifulsoup4==4.12.2 in /usr/local/lib/python3.11/dist-packages (from lyzr) (4.12.2)\n",
            "Requirement already satisfied: pandas==2.0.2 in /usr/local/lib/python3.11/dist-packages (from lyzr) (2.0.2)\n",
            "Requirement already satisfied: weaviate-client==3.25.3 in /usr/local/lib/python3.11/dist-packages (from lyzr) (3.25.3)\n",
            "Requirement already satisfied: llmsherpa in /usr/local/lib/python3.11/dist-packages (from lyzr) (0.1.4)\n",
            "Requirement already satisfied: soupsieve>1.2 in /usr/local/lib/python3.11/dist-packages (from beautifulsoup4==4.12.2->lyzr) (2.6)\n",
            "Requirement already satisfied: PyYAML>=5.3 in /usr/local/lib/python3.11/dist-packages (from langchain==0.0.339->lyzr) (6.0.2)\n",
            "Requirement already satisfied: SQLAlchemy<3,>=1.4 in /usr/local/lib/python3.11/dist-packages (from langchain==0.0.339->lyzr) (2.0.38)\n",
            "Requirement already satisfied: aiohttp<4.0.0,>=3.8.3 in /usr/local/lib/python3.11/dist-packages (from langchain==0.0.339->lyzr) (3.11.12)\n",
            "Requirement already satisfied: anyio<4.0 in /usr/local/lib/python3.11/dist-packages (from langchain==0.0.339->lyzr) (3.7.1)\n",
            "Requirement already satisfied: dataclasses-json<0.7,>=0.5.7 in /usr/local/lib/python3.11/dist-packages (from langchain==0.0.339->lyzr) (0.5.14)\n",
            "Requirement already satisfied: jsonpatch<2.0,>=1.33 in /usr/local/lib/python3.11/dist-packages (from langchain==0.0.339->lyzr) (1.33)\n",
            "Requirement already satisfied: langsmith<0.1.0,>=0.0.63 in /usr/local/lib/python3.11/dist-packages (from langchain==0.0.339->lyzr) (0.0.92)\n",
            "Requirement already satisfied: numpy<2,>=1 in /usr/local/lib/python3.11/dist-packages (from langchain==0.0.339->lyzr) (1.26.4)\n",
            "Requirement already satisfied: pydantic<3,>=1 in /usr/local/lib/python3.11/dist-packages (from langchain==0.0.339->lyzr) (2.10.6)\n",
            "Requirement already satisfied: requests<3,>=2 in /usr/local/lib/python3.11/dist-packages (from langchain==0.0.339->lyzr) (2.32.3)\n",
            "Requirement already satisfied: tenacity<9.0.0,>=8.1.0 in /usr/local/lib/python3.11/dist-packages (from langchain==0.0.339->lyzr) (8.5.0)\n",
            "Requirement already satisfied: aiostream<0.6.0,>=0.5.2 in /usr/local/lib/python3.11/dist-packages (from llama-index==0.9.4->lyzr) (0.5.2)\n",
            "Requirement already satisfied: deprecated>=1.2.9.3 in /usr/local/lib/python3.11/dist-packages (from llama-index==0.9.4->lyzr) (1.2.18)\n",
            "Requirement already satisfied: fsspec>=2023.5.0 in /usr/local/lib/python3.11/dist-packages (from llama-index==0.9.4->lyzr) (2024.10.0)\n",
            "Requirement already satisfied: httpx in /usr/local/lib/python3.11/dist-packages (from llama-index==0.9.4->lyzr) (0.28.1)\n",
            "Requirement already satisfied: nltk<4.0.0,>=3.8.1 in /usr/local/lib/python3.11/dist-packages (from llama-index==0.9.4->lyzr) (3.9.1)\n",
            "Requirement already satisfied: tiktoken>=0.3.3 in /usr/local/lib/python3.11/dist-packages (from llama-index==0.9.4->lyzr) (0.9.0)\n",
            "Requirement already satisfied: typing-extensions>=4.5.0 in /usr/local/lib/python3.11/dist-packages (from llama-index==0.9.4->lyzr) (4.12.2)\n",
            "Requirement already satisfied: typing-inspect>=0.8.0 in /usr/local/lib/python3.11/dist-packages (from llama-index==0.9.4->lyzr) (0.9.0)\n",
            "Requirement already satisfied: urllib3<2 in /usr/local/lib/python3.11/dist-packages (from llama-index==0.9.4->lyzr) (1.26.20)\n",
            "Requirement already satisfied: python-dateutil>=2.8.2 in /usr/local/lib/python3.11/dist-packages (from pandas==2.0.2->lyzr) (2.8.2)\n",
            "Requirement already satisfied: pytz>=2020.1 in /usr/local/lib/python3.11/dist-packages (from pandas==2.0.2->lyzr) (2025.1)\n",
            "Requirement already satisfied: tzdata>=2022.1 in /usr/local/lib/python3.11/dist-packages (from pandas==2.0.2->lyzr) (2025.1)\n",
            "Requirement already satisfied: validators<1.0.0,>=0.21.2 in /usr/local/lib/python3.11/dist-packages (from weaviate-client==3.25.3->lyzr) (0.34.0)\n",
            "Requirement already satisfied: authlib<2.0.0,>=1.2.1 in /usr/local/lib/python3.11/dist-packages (from weaviate-client==3.25.3->lyzr) (1.4.1)\n",
            "Requirement already satisfied: distro<2,>=1.7.0 in /usr/local/lib/python3.11/dist-packages (from openai->lyzr) (1.9.0)\n",
            "Requirement already satisfied: jiter<1,>=0.4.0 in /usr/local/lib/python3.11/dist-packages (from openai->lyzr) (0.8.2)\n",
            "Requirement already satisfied: sniffio in /usr/local/lib/python3.11/dist-packages (from openai->lyzr) (1.3.1)\n",
            "Requirement already satisfied: tqdm>4 in /usr/local/lib/python3.11/dist-packages (from openai->lyzr) (4.67.1)\n",
            "Requirement already satisfied: click in /usr/local/lib/python3.11/dist-packages (from litellm->lyzr) (8.1.8)\n",
            "Requirement already satisfied: importlib-metadata>=6.8.0 in /usr/local/lib/python3.11/dist-packages (from litellm->lyzr) (8.6.1)\n",
            "Requirement already satisfied: jinja2<4.0.0,>=3.1.2 in /usr/local/lib/python3.11/dist-packages (from litellm->lyzr) (3.1.5)\n",
            "Requirement already satisfied: jsonschema<5.0.0,>=4.22.0 in /usr/local/lib/python3.11/dist-packages (from litellm->lyzr) (4.23.0)\n",
            "Requirement already satisfied: tokenizers in /usr/local/lib/python3.11/dist-packages (from litellm->lyzr) (0.21.0)\n",
            "Requirement already satisfied: aiohappyeyeballs>=2.3.0 in /usr/local/lib/python3.11/dist-packages (from aiohttp<4.0.0,>=3.8.3->langchain==0.0.339->lyzr) (2.4.6)\n",
            "Requirement already satisfied: aiosignal>=1.1.2 in /usr/local/lib/python3.11/dist-packages (from aiohttp<4.0.0,>=3.8.3->langchain==0.0.339->lyzr) (1.3.2)\n",
            "Requirement already satisfied: attrs>=17.3.0 in /usr/local/lib/python3.11/dist-packages (from aiohttp<4.0.0,>=3.8.3->langchain==0.0.339->lyzr) (25.1.0)\n",
            "Requirement already satisfied: frozenlist>=1.1.1 in /usr/local/lib/python3.11/dist-packages (from aiohttp<4.0.0,>=3.8.3->langchain==0.0.339->lyzr) (1.5.0)\n",
            "Requirement already satisfied: multidict<7.0,>=4.5 in /usr/local/lib/python3.11/dist-packages (from aiohttp<4.0.0,>=3.8.3->langchain==0.0.339->lyzr) (6.1.0)\n",
            "Requirement already satisfied: propcache>=0.2.0 in /usr/local/lib/python3.11/dist-packages (from aiohttp<4.0.0,>=3.8.3->langchain==0.0.339->lyzr) (0.2.1)\n",
            "Requirement already satisfied: yarl<2.0,>=1.17.0 in /usr/local/lib/python3.11/dist-packages (from aiohttp<4.0.0,>=3.8.3->langchain==0.0.339->lyzr) (1.18.3)\n",
            "Requirement already satisfied: idna>=2.8 in /usr/local/lib/python3.11/dist-packages (from anyio<4.0->langchain==0.0.339->lyzr) (2.10)\n",
            "Requirement already satisfied: cryptography in /usr/local/lib/python3.11/dist-packages (from authlib<2.0.0,>=1.2.1->weaviate-client==3.25.3->lyzr) (43.0.3)\n",
            "Requirement already satisfied: marshmallow<4.0.0,>=3.18.0 in /usr/local/lib/python3.11/dist-packages (from dataclasses-json<0.7,>=0.5.7->langchain==0.0.339->lyzr) (3.26.1)\n",
            "Requirement already satisfied: wrapt<2,>=1.10 in /usr/local/lib/python3.11/dist-packages (from deprecated>=1.2.9.3->llama-index==0.9.4->lyzr) (1.17.2)\n",
            "Requirement already satisfied: certifi in /usr/local/lib/python3.11/dist-packages (from httpx->llama-index==0.9.4->lyzr) (2025.1.31)\n",
            "Requirement already satisfied: httpcore==1.* in /usr/local/lib/python3.11/dist-packages (from httpx->llama-index==0.9.4->lyzr) (1.0.7)\n",
            "Requirement already satisfied: h11<0.15,>=0.13 in /usr/local/lib/python3.11/dist-packages (from httpcore==1.*->httpx->llama-index==0.9.4->lyzr) (0.14.0)\n",
            "Requirement already satisfied: zipp>=3.20 in /usr/local/lib/python3.11/dist-packages (from importlib-metadata>=6.8.0->litellm->lyzr) (3.21.0)\n",
            "Requirement already satisfied: MarkupSafe>=2.0 in /usr/local/lib/python3.11/dist-packages (from jinja2<4.0.0,>=3.1.2->litellm->lyzr) (3.0.2)\n",
            "Requirement already satisfied: jsonpointer>=1.9 in /usr/local/lib/python3.11/dist-packages (from jsonpatch<2.0,>=1.33->langchain==0.0.339->lyzr) (3.0.0)\n",
            "Requirement already satisfied: jsonschema-specifications>=2023.03.6 in /usr/local/lib/python3.11/dist-packages (from jsonschema<5.0.0,>=4.22.0->litellm->lyzr) (2024.10.1)\n",
            "Requirement already satisfied: referencing>=0.28.4 in /usr/local/lib/python3.11/dist-packages (from jsonschema<5.0.0,>=4.22.0->litellm->lyzr) (0.36.2)\n",
            "Requirement already satisfied: rpds-py>=0.7.1 in /usr/local/lib/python3.11/dist-packages (from jsonschema<5.0.0,>=4.22.0->litellm->lyzr) (0.22.3)\n",
            "Requirement already satisfied: joblib in /usr/local/lib/python3.11/dist-packages (from nltk<4.0.0,>=3.8.1->llama-index==0.9.4->lyzr) (1.4.2)\n",
            "Requirement already satisfied: regex>=2021.8.3 in /usr/local/lib/python3.11/dist-packages (from nltk<4.0.0,>=3.8.1->llama-index==0.9.4->lyzr) (2024.11.6)\n",
            "Requirement already satisfied: annotated-types>=0.6.0 in /usr/local/lib/python3.11/dist-packages (from pydantic<3,>=1->langchain==0.0.339->lyzr) (0.7.0)\n",
            "Requirement already satisfied: pydantic-core==2.27.2 in /usr/local/lib/python3.11/dist-packages (from pydantic<3,>=1->langchain==0.0.339->lyzr) (2.27.2)\n",
            "Requirement already satisfied: six>=1.5 in /usr/local/lib/python3.11/dist-packages (from python-dateutil>=2.8.2->pandas==2.0.2->lyzr) (1.17.0)\n",
            "Requirement already satisfied: charset-normalizer<4,>=2 in /usr/local/lib/python3.11/dist-packages (from requests<3,>=2->langchain==0.0.339->lyzr) (3.4.1)\n",
            "Requirement already satisfied: greenlet!=0.4.17 in /usr/local/lib/python3.11/dist-packages (from SQLAlchemy<3,>=1.4->langchain==0.0.339->lyzr) (3.1.1)\n",
            "Requirement already satisfied: mypy-extensions>=0.3.0 in /usr/local/lib/python3.11/dist-packages (from typing-inspect>=0.8.0->llama-index==0.9.4->lyzr) (1.0.0)\n",
            "\u001b[33mWARNING: pandas 2.0.2 does not provide the extra 'jinja2'\u001b[0m\u001b[33m\n",
            "\u001b[0mRequirement already satisfied: huggingface-hub<1.0,>=0.16.4 in /usr/local/lib/python3.11/dist-packages (from tokenizers->litellm->lyzr) (0.28.1)\n",
            "Requirement already satisfied: filelock in /usr/local/lib/python3.11/dist-packages (from huggingface-hub<1.0,>=0.16.4->tokenizers->litellm->lyzr) (3.17.0)\n",
            "Requirement already satisfied: packaging>=20.9 in /usr/local/lib/python3.11/dist-packages (from huggingface-hub<1.0,>=0.16.4->tokenizers->litellm->lyzr) (24.2)\n",
            "Requirement already satisfied: cffi>=1.12 in /usr/local/lib/python3.11/dist-packages (from cryptography->authlib<2.0.0,>=1.2.1->weaviate-client==3.25.3->lyzr) (1.17.1)\n",
            "Requirement already satisfied: pycparser in /usr/local/lib/python3.11/dist-packages (from cffi>=1.12->cryptography->authlib<2.0.0,>=1.2.1->weaviate-client==3.25.3->lyzr) (2.22)\n",
            "Requirement already satisfied: httpx in /usr/local/lib/python3.11/dist-packages (0.28.1)\n",
            "Requirement already satisfied: anyio in /usr/local/lib/python3.11/dist-packages (from httpx) (3.7.1)\n",
            "Requirement already satisfied: certifi in /usr/local/lib/python3.11/dist-packages (from httpx) (2025.1.31)\n",
            "Requirement already satisfied: httpcore==1.* in /usr/local/lib/python3.11/dist-packages (from httpx) (1.0.7)\n",
            "Requirement already satisfied: idna in /usr/local/lib/python3.11/dist-packages (from httpx) (2.10)\n",
            "Requirement already satisfied: h11<0.15,>=0.13 in /usr/local/lib/python3.11/dist-packages (from httpcore==1.*->httpx) (0.14.0)\n",
            "Requirement already satisfied: sniffio>=1.1 in /usr/local/lib/python3.11/dist-packages (from anyio->httpx) (1.3.1)\n",
            "\u001b[31mERROR: Could not find a version that satisfies the requirement BaseTransport (from versions: none)\u001b[0m\u001b[31m\n",
            "\u001b[0m\u001b[31mERROR: No matching distribution found for BaseTransport\u001b[0m\u001b[31m\n",
            "\u001b[0m"
          ]
        }
      ]
    },
    {
      "cell_type": "code",
      "execution_count": 12,
      "metadata": {
        "colab": {
          "base_uri": "https://localhost:8080/",
          "height": 550
        },
        "id": "mEYWAR_qZabu",
        "outputId": "3a91efa4-d7c0-4345-8874-f0768151d2fd"
      },
      "outputs": [
        {
          "output_type": "error",
          "ename": "ImportError",
          "evalue": "cannot import name 'BaseTransport' from 'httpx' (/usr/local/lib/python3.11/dist-packages/httpx/__init__.py)",
          "traceback": [
            "\u001b[0;31m---------------------------------------------------------------------------\u001b[0m",
            "\u001b[0;31mImportError\u001b[0m                               Traceback (most recent call last)",
            "\u001b[0;32m<ipython-input-12-c6ffe3f0e705>\u001b[0m in \u001b[0;36m<cell line: 0>\u001b[0;34m()\u001b[0m\n\u001b[1;32m      1\u001b[0m \u001b[0;31m#audio transcription\u001b[0m\u001b[0;34m\u001b[0m\u001b[0;34m\u001b[0m\u001b[0m\n\u001b[0;32m----> 2\u001b[0;31m \u001b[0;32mfrom\u001b[0m \u001b[0mlyzr\u001b[0m \u001b[0;32mimport\u001b[0m \u001b[0mVoiceBot\u001b[0m\u001b[0;34m\u001b[0m\u001b[0;34m\u001b[0m\u001b[0m\n\u001b[0m\u001b[1;32m      3\u001b[0m \u001b[0;32mfrom\u001b[0m \u001b[0mgoogle\u001b[0m\u001b[0;34m.\u001b[0m\u001b[0mcolab\u001b[0m \u001b[0;32mimport\u001b[0m \u001b[0muserdata\u001b[0m\u001b[0;34m\u001b[0m\u001b[0;34m\u001b[0m\u001b[0m\n\u001b[1;32m      4\u001b[0m \u001b[0mvoicebot\u001b[0m \u001b[0;34m=\u001b[0m \u001b[0mVoiceBot\u001b[0m\u001b[0;34m(\u001b[0m\u001b[0mapi_key\u001b[0m\u001b[0;34m=\u001b[0m\u001b[0muserdata\u001b[0m\u001b[0;34m.\u001b[0m\u001b[0mget\u001b[0m\u001b[0;34m(\u001b[0m\u001b[0;34m\"OPENAI_API_KEY\"\u001b[0m\u001b[0;34m)\u001b[0m\u001b[0;34m)\u001b[0m\u001b[0;34m\u001b[0m\u001b[0;34m\u001b[0m\u001b[0m\n\u001b[1;32m      5\u001b[0m \u001b[0mprint\u001b[0m\u001b[0;34m(\u001b[0m\u001b[0mvoicebot\u001b[0m\u001b[0;34m.\u001b[0m\u001b[0mtranscribe\u001b[0m\u001b[0;34m(\u001b[0m\u001b[0;34m\"/content/harvard.wav\"\u001b[0m\u001b[0;34m)\u001b[0m\u001b[0;34m)\u001b[0m\u001b[0;34m\u001b[0m\u001b[0;34m\u001b[0m\u001b[0m\n",
            "\u001b[0;32m/usr/local/lib/python3.11/dist-packages/lyzr/__init__.py\u001b[0m in \u001b[0;36m<module>\u001b[0;34m\u001b[0m\n\u001b[0;32m----> 1\u001b[0;31m \u001b[0;32mfrom\u001b[0m \u001b[0mlyzr\u001b[0m\u001b[0;34m.\u001b[0m\u001b[0mchat\u001b[0m\u001b[0;34m.\u001b[0m\u001b[0mchatbot\u001b[0m \u001b[0;32mimport\u001b[0m \u001b[0mChatBot\u001b[0m\u001b[0;34m\u001b[0m\u001b[0;34m\u001b[0m\u001b[0m\n\u001b[0m\u001b[1;32m      2\u001b[0m \u001b[0;32mfrom\u001b[0m \u001b[0mlyzr\u001b[0m\u001b[0;34m.\u001b[0m\u001b[0mbase\u001b[0m\u001b[0;34m.\u001b[0m\u001b[0mllm\u001b[0m \u001b[0;32mimport\u001b[0m \u001b[0mLyzrLLMFactory\u001b[0m\u001b[0;34m\u001b[0m\u001b[0;34m\u001b[0m\u001b[0m\n\u001b[1;32m      3\u001b[0m \u001b[0;32mfrom\u001b[0m \u001b[0mlyzr\u001b[0m\u001b[0;34m.\u001b[0m\u001b[0mqa\u001b[0m\u001b[0;34m.\u001b[0m\u001b[0mqa_bot\u001b[0m \u001b[0;32mimport\u001b[0m \u001b[0mQABot\u001b[0m\u001b[0;34m\u001b[0m\u001b[0;34m\u001b[0m\u001b[0m\n\u001b[1;32m      4\u001b[0m \u001b[0;32mfrom\u001b[0m \u001b[0mlyzr\u001b[0m\u001b[0;34m.\u001b[0m\u001b[0mbase\u001b[0m\u001b[0;34m.\u001b[0m\u001b[0mservice\u001b[0m \u001b[0;32mimport\u001b[0m \u001b[0mLyzrService\u001b[0m\u001b[0;34m\u001b[0m\u001b[0;34m\u001b[0m\u001b[0m\n\u001b[1;32m      5\u001b[0m \u001b[0;32mfrom\u001b[0m \u001b[0mlyzr\u001b[0m\u001b[0;34m.\u001b[0m\u001b[0mbase\u001b[0m\u001b[0;34m.\u001b[0m\u001b[0mvector_store\u001b[0m \u001b[0;32mimport\u001b[0m \u001b[0mLyzrVectorStoreIndex\u001b[0m\u001b[0;34m\u001b[0m\u001b[0;34m\u001b[0m\u001b[0m\n",
            "\u001b[0;32m/usr/local/lib/python3.11/dist-packages/lyzr/chat/__init__.py\u001b[0m in \u001b[0;36m<module>\u001b[0;34m\u001b[0m\n\u001b[0;32m----> 1\u001b[0;31m \u001b[0;32mfrom\u001b[0m \u001b[0mlyzr\u001b[0m\u001b[0;34m.\u001b[0m\u001b[0mchat\u001b[0m\u001b[0;34m.\u001b[0m\u001b[0mchatbot\u001b[0m \u001b[0;32mimport\u001b[0m \u001b[0mChatBot\u001b[0m\u001b[0;34m\u001b[0m\u001b[0;34m\u001b[0m\u001b[0m\n\u001b[0m\u001b[1;32m      2\u001b[0m \u001b[0;34m\u001b[0m\u001b[0m\n\u001b[1;32m      3\u001b[0m \u001b[0m__all__\u001b[0m \u001b[0;34m=\u001b[0m \u001b[0;34m[\u001b[0m\u001b[0;34m\"ChatBot\"\u001b[0m\u001b[0;34m]\u001b[0m\u001b[0;34m\u001b[0m\u001b[0;34m\u001b[0m\u001b[0m\n",
            "\u001b[0;32m/usr/local/lib/python3.11/dist-packages/lyzr/chat/chatbot.py\u001b[0m in \u001b[0;36m<module>\u001b[0;34m\u001b[0m\n\u001b[1;32m      1\u001b[0m \u001b[0;32mfrom\u001b[0m \u001b[0mtyping\u001b[0m \u001b[0;32mimport\u001b[0m \u001b[0mUnion\u001b[0m\u001b[0;34m,\u001b[0m \u001b[0mOptional\u001b[0m\u001b[0;34m,\u001b[0m \u001b[0mList\u001b[0m\u001b[0;34m\u001b[0m\u001b[0;34m\u001b[0m\u001b[0m\n\u001b[1;32m      2\u001b[0m \u001b[0;34m\u001b[0m\u001b[0m\n\u001b[0;32m----> 3\u001b[0;31m \u001b[0;32mfrom\u001b[0m \u001b[0mllama_index\u001b[0m \u001b[0;32mimport\u001b[0m \u001b[0mServiceContext\u001b[0m\u001b[0;34m,\u001b[0m \u001b[0mVectorStoreIndex\u001b[0m\u001b[0;34m\u001b[0m\u001b[0;34m\u001b[0m\u001b[0m\n\u001b[0m\u001b[1;32m      4\u001b[0m \u001b[0;32mfrom\u001b[0m \u001b[0mllama_index\u001b[0m\u001b[0;34m.\u001b[0m\u001b[0mchat_engine\u001b[0m\u001b[0;34m.\u001b[0m\u001b[0mtypes\u001b[0m \u001b[0;32mimport\u001b[0m \u001b[0mBaseChatEngine\u001b[0m\u001b[0;34m\u001b[0m\u001b[0;34m\u001b[0m\u001b[0m\n\u001b[1;32m      5\u001b[0m \u001b[0;32mfrom\u001b[0m \u001b[0mllama_index\u001b[0m\u001b[0;34m.\u001b[0m\u001b[0membeddings\u001b[0m\u001b[0;34m.\u001b[0m\u001b[0mutils\u001b[0m \u001b[0;32mimport\u001b[0m \u001b[0mEmbedType\u001b[0m\u001b[0;34m\u001b[0m\u001b[0;34m\u001b[0m\u001b[0m\n",
            "\u001b[0;32m/usr/local/lib/python3.11/dist-packages/llama_index/__init__.py\u001b[0m in \u001b[0;36m<module>\u001b[0;34m\u001b[0m\n\u001b[1;32m     11\u001b[0m \u001b[0;34m\u001b[0m\u001b[0m\n\u001b[1;32m     12\u001b[0m \u001b[0;31m# import global eval handler\u001b[0m\u001b[0;34m\u001b[0m\u001b[0;34m\u001b[0m\u001b[0m\n\u001b[0;32m---> 13\u001b[0;31m \u001b[0;32mfrom\u001b[0m \u001b[0mllama_index\u001b[0m\u001b[0;34m.\u001b[0m\u001b[0mcallbacks\u001b[0m\u001b[0;34m.\u001b[0m\u001b[0mglobal_handlers\u001b[0m \u001b[0;32mimport\u001b[0m \u001b[0mset_global_handler\u001b[0m\u001b[0;34m\u001b[0m\u001b[0;34m\u001b[0m\u001b[0m\n\u001b[0m\u001b[1;32m     14\u001b[0m \u001b[0;32mfrom\u001b[0m \u001b[0mllama_index\u001b[0m\u001b[0;34m.\u001b[0m\u001b[0mdata_structs\u001b[0m\u001b[0;34m.\u001b[0m\u001b[0mstruct_type\u001b[0m \u001b[0;32mimport\u001b[0m \u001b[0mIndexStructType\u001b[0m\u001b[0;34m\u001b[0m\u001b[0;34m\u001b[0m\u001b[0m\n\u001b[1;32m     15\u001b[0m \u001b[0;34m\u001b[0m\u001b[0m\n",
            "\u001b[0;32m/usr/local/lib/python3.11/dist-packages/llama_index/callbacks/__init__.py\u001b[0m in \u001b[0;36m<module>\u001b[0;34m\u001b[0m\n\u001b[1;32m      5\u001b[0m \u001b[0;32mfrom\u001b[0m \u001b[0;34m.\u001b[0m\u001b[0mopen_inference_callback\u001b[0m \u001b[0;32mimport\u001b[0m \u001b[0mOpenInferenceCallbackHandler\u001b[0m\u001b[0;34m\u001b[0m\u001b[0;34m\u001b[0m\u001b[0m\n\u001b[1;32m      6\u001b[0m \u001b[0;32mfrom\u001b[0m \u001b[0;34m.\u001b[0m\u001b[0mschema\u001b[0m \u001b[0;32mimport\u001b[0m \u001b[0mCBEvent\u001b[0m\u001b[0;34m,\u001b[0m \u001b[0mCBEventType\u001b[0m\u001b[0;34m,\u001b[0m \u001b[0mEventPayload\u001b[0m\u001b[0;34m\u001b[0m\u001b[0;34m\u001b[0m\u001b[0m\n\u001b[0;32m----> 7\u001b[0;31m \u001b[0;32mfrom\u001b[0m \u001b[0;34m.\u001b[0m\u001b[0mtoken_counting\u001b[0m \u001b[0;32mimport\u001b[0m \u001b[0mTokenCountingHandler\u001b[0m\u001b[0;34m\u001b[0m\u001b[0;34m\u001b[0m\u001b[0m\n\u001b[0m\u001b[1;32m      8\u001b[0m \u001b[0;32mfrom\u001b[0m \u001b[0;34m.\u001b[0m\u001b[0mutils\u001b[0m \u001b[0;32mimport\u001b[0m \u001b[0mtrace_method\u001b[0m\u001b[0;34m\u001b[0m\u001b[0;34m\u001b[0m\u001b[0m\n\u001b[1;32m      9\u001b[0m \u001b[0;32mfrom\u001b[0m \u001b[0;34m.\u001b[0m\u001b[0mwandb_callback\u001b[0m \u001b[0;32mimport\u001b[0m \u001b[0mWandbCallbackHandler\u001b[0m\u001b[0;34m\u001b[0m\u001b[0;34m\u001b[0m\u001b[0m\n",
            "\u001b[0;32m/usr/local/lib/python3.11/dist-packages/llama_index/callbacks/token_counting.py\u001b[0m in \u001b[0;36m<module>\u001b[0;34m\u001b[0m\n\u001b[1;32m      4\u001b[0m \u001b[0;32mfrom\u001b[0m \u001b[0mllama_index\u001b[0m\u001b[0;34m.\u001b[0m\u001b[0mcallbacks\u001b[0m\u001b[0;34m.\u001b[0m\u001b[0mbase_handler\u001b[0m \u001b[0;32mimport\u001b[0m \u001b[0mBaseCallbackHandler\u001b[0m\u001b[0;34m\u001b[0m\u001b[0;34m\u001b[0m\u001b[0m\n\u001b[1;32m      5\u001b[0m \u001b[0;32mfrom\u001b[0m \u001b[0mllama_index\u001b[0m\u001b[0;34m.\u001b[0m\u001b[0mcallbacks\u001b[0m\u001b[0;34m.\u001b[0m\u001b[0mschema\u001b[0m \u001b[0;32mimport\u001b[0m \u001b[0mCBEventType\u001b[0m\u001b[0;34m,\u001b[0m \u001b[0mEventPayload\u001b[0m\u001b[0;34m\u001b[0m\u001b[0;34m\u001b[0m\u001b[0m\n\u001b[0;32m----> 6\u001b[0;31m \u001b[0;32mfrom\u001b[0m \u001b[0mllama_index\u001b[0m\u001b[0;34m.\u001b[0m\u001b[0mutilities\u001b[0m\u001b[0;34m.\u001b[0m\u001b[0mtoken_counting\u001b[0m \u001b[0;32mimport\u001b[0m \u001b[0mTokenCounter\u001b[0m\u001b[0;34m\u001b[0m\u001b[0;34m\u001b[0m\u001b[0m\n\u001b[0m\u001b[1;32m      7\u001b[0m \u001b[0;32mfrom\u001b[0m \u001b[0mllama_index\u001b[0m\u001b[0;34m.\u001b[0m\u001b[0mutils\u001b[0m \u001b[0;32mimport\u001b[0m \u001b[0mget_tokenizer\u001b[0m\u001b[0;34m\u001b[0m\u001b[0;34m\u001b[0m\u001b[0m\n\u001b[1;32m      8\u001b[0m \u001b[0;34m\u001b[0m\u001b[0m\n",
            "\u001b[0;32m/usr/local/lib/python3.11/dist-packages/llama_index/utilities/token_counting.py\u001b[0m in \u001b[0;36m<module>\u001b[0;34m\u001b[0m\n\u001b[1;32m      4\u001b[0m \u001b[0;32mfrom\u001b[0m \u001b[0mtyping\u001b[0m \u001b[0;32mimport\u001b[0m \u001b[0mAny\u001b[0m\u001b[0;34m,\u001b[0m \u001b[0mCallable\u001b[0m\u001b[0;34m,\u001b[0m \u001b[0mDict\u001b[0m\u001b[0;34m,\u001b[0m \u001b[0mList\u001b[0m\u001b[0;34m,\u001b[0m \u001b[0mOptional\u001b[0m\u001b[0;34m\u001b[0m\u001b[0;34m\u001b[0m\u001b[0m\n\u001b[1;32m      5\u001b[0m \u001b[0;34m\u001b[0m\u001b[0m\n\u001b[0;32m----> 6\u001b[0;31m \u001b[0;32mfrom\u001b[0m \u001b[0mllama_index\u001b[0m\u001b[0;34m.\u001b[0m\u001b[0mllms\u001b[0m \u001b[0;32mimport\u001b[0m \u001b[0mChatMessage\u001b[0m\u001b[0;34m,\u001b[0m \u001b[0mMessageRole\u001b[0m\u001b[0;34m\u001b[0m\u001b[0;34m\u001b[0m\u001b[0m\n\u001b[0m\u001b[1;32m      7\u001b[0m \u001b[0;32mfrom\u001b[0m \u001b[0mllama_index\u001b[0m\u001b[0;34m.\u001b[0m\u001b[0mutils\u001b[0m \u001b[0;32mimport\u001b[0m \u001b[0mget_tokenizer\u001b[0m\u001b[0;34m\u001b[0m\u001b[0;34m\u001b[0m\u001b[0m\n\u001b[1;32m      8\u001b[0m \u001b[0;34m\u001b[0m\u001b[0m\n",
            "\u001b[0;32m/usr/local/lib/python3.11/dist-packages/llama_index/llms/__init__.py\u001b[0m in \u001b[0;36m<module>\u001b[0;34m\u001b[0m\n\u001b[1;32m      1\u001b[0m \u001b[0;32mfrom\u001b[0m \u001b[0mllama_index\u001b[0m\u001b[0;34m.\u001b[0m\u001b[0mllms\u001b[0m\u001b[0;34m.\u001b[0m\u001b[0mai21\u001b[0m \u001b[0;32mimport\u001b[0m \u001b[0mAI21\u001b[0m\u001b[0;34m\u001b[0m\u001b[0;34m\u001b[0m\u001b[0m\n\u001b[1;32m      2\u001b[0m \u001b[0;32mfrom\u001b[0m \u001b[0mllama_index\u001b[0m\u001b[0;34m.\u001b[0m\u001b[0mllms\u001b[0m\u001b[0;34m.\u001b[0m\u001b[0manthropic\u001b[0m \u001b[0;32mimport\u001b[0m \u001b[0mAnthropic\u001b[0m\u001b[0;34m\u001b[0m\u001b[0;34m\u001b[0m\u001b[0m\n\u001b[0;32m----> 3\u001b[0;31m \u001b[0;32mfrom\u001b[0m \u001b[0mllama_index\u001b[0m\u001b[0;34m.\u001b[0m\u001b[0mllms\u001b[0m\u001b[0;34m.\u001b[0m\u001b[0manyscale\u001b[0m \u001b[0;32mimport\u001b[0m \u001b[0mAnyscale\u001b[0m\u001b[0;34m\u001b[0m\u001b[0;34m\u001b[0m\u001b[0m\n\u001b[0m\u001b[1;32m      4\u001b[0m \u001b[0;32mfrom\u001b[0m \u001b[0mllama_index\u001b[0m\u001b[0;34m.\u001b[0m\u001b[0mllms\u001b[0m\u001b[0;34m.\u001b[0m\u001b[0mazure_openai\u001b[0m \u001b[0;32mimport\u001b[0m \u001b[0mAzureOpenAI\u001b[0m\u001b[0;34m\u001b[0m\u001b[0;34m\u001b[0m\u001b[0m\n\u001b[1;32m      5\u001b[0m from llama_index.llms.base import (\n",
            "\u001b[0;32m/usr/local/lib/python3.11/dist-packages/llama_index/llms/anyscale.py\u001b[0m in \u001b[0;36m<module>\u001b[0;34m\u001b[0m\n\u001b[1;32m     10\u001b[0m )\n\u001b[1;32m     11\u001b[0m \u001b[0;32mfrom\u001b[0m \u001b[0mllama_index\u001b[0m\u001b[0;34m.\u001b[0m\u001b[0mllms\u001b[0m\u001b[0;34m.\u001b[0m\u001b[0mgeneric_utils\u001b[0m \u001b[0;32mimport\u001b[0m \u001b[0mget_from_param_or_env\u001b[0m\u001b[0;34m\u001b[0m\u001b[0;34m\u001b[0m\u001b[0m\n\u001b[0;32m---> 12\u001b[0;31m \u001b[0;32mfrom\u001b[0m \u001b[0mllama_index\u001b[0m\u001b[0;34m.\u001b[0m\u001b[0mllms\u001b[0m\u001b[0;34m.\u001b[0m\u001b[0mopenai\u001b[0m \u001b[0;32mimport\u001b[0m \u001b[0mOpenAI\u001b[0m\u001b[0;34m\u001b[0m\u001b[0;34m\u001b[0m\u001b[0m\n\u001b[0m\u001b[1;32m     13\u001b[0m \u001b[0;34m\u001b[0m\u001b[0m\n\u001b[1;32m     14\u001b[0m \u001b[0mDEFAULT_API_BASE\u001b[0m \u001b[0;34m=\u001b[0m \u001b[0;34m\"https://api.endpoints.anyscale.com/v1\"\u001b[0m\u001b[0;34m\u001b[0m\u001b[0;34m\u001b[0m\u001b[0m\n",
            "\u001b[0;32m/usr/local/lib/python3.11/dist-packages/llama_index/llms/openai.py\u001b[0m in \u001b[0;36m<module>\u001b[0;34m\u001b[0m\n\u001b[1;32m     14\u001b[0m \u001b[0;34m\u001b[0m\u001b[0m\n\u001b[1;32m     15\u001b[0m \u001b[0;32mimport\u001b[0m \u001b[0mtiktoken\u001b[0m\u001b[0;34m\u001b[0m\u001b[0;34m\u001b[0m\u001b[0m\n\u001b[0;32m---> 16\u001b[0;31m \u001b[0;32mfrom\u001b[0m \u001b[0mopenai\u001b[0m \u001b[0;32mimport\u001b[0m \u001b[0mAsyncOpenAI\u001b[0m\u001b[0;34m\u001b[0m\u001b[0;34m\u001b[0m\u001b[0m\n\u001b[0m\u001b[1;32m     17\u001b[0m \u001b[0;32mfrom\u001b[0m \u001b[0mopenai\u001b[0m \u001b[0;32mimport\u001b[0m \u001b[0mOpenAI\u001b[0m \u001b[0;32mas\u001b[0m \u001b[0mSyncOpenAI\u001b[0m\u001b[0;34m\u001b[0m\u001b[0;34m\u001b[0m\u001b[0m\n\u001b[1;32m     18\u001b[0m from openai.types.chat.chat_completion_chunk import (\n",
            "\u001b[0;32m/usr/local/lib/python3.11/dist-packages/openai/__init__.py\u001b[0m in \u001b[0;36m<module>\u001b[0;34m\u001b[0m\n\u001b[1;32m      6\u001b[0m \u001b[0;32mfrom\u001b[0m \u001b[0mtyping_extensions\u001b[0m \u001b[0;32mimport\u001b[0m \u001b[0moverride\u001b[0m\u001b[0;34m\u001b[0m\u001b[0;34m\u001b[0m\u001b[0m\n\u001b[1;32m      7\u001b[0m \u001b[0;34m\u001b[0m\u001b[0m\n\u001b[0;32m----> 8\u001b[0;31m \u001b[0;32mfrom\u001b[0m \u001b[0;34m.\u001b[0m \u001b[0;32mimport\u001b[0m \u001b[0mtypes\u001b[0m\u001b[0;34m\u001b[0m\u001b[0;34m\u001b[0m\u001b[0m\n\u001b[0m\u001b[1;32m      9\u001b[0m \u001b[0;32mfrom\u001b[0m \u001b[0;34m.\u001b[0m\u001b[0m_types\u001b[0m \u001b[0;32mimport\u001b[0m \u001b[0mNOT_GIVEN\u001b[0m\u001b[0;34m,\u001b[0m \u001b[0mOmit\u001b[0m\u001b[0;34m,\u001b[0m \u001b[0mNoneType\u001b[0m\u001b[0;34m,\u001b[0m \u001b[0mNotGiven\u001b[0m\u001b[0;34m,\u001b[0m \u001b[0mTransport\u001b[0m\u001b[0;34m,\u001b[0m \u001b[0mProxiesTypes\u001b[0m\u001b[0;34m\u001b[0m\u001b[0;34m\u001b[0m\u001b[0m\n\u001b[1;32m     10\u001b[0m \u001b[0;32mfrom\u001b[0m \u001b[0;34m.\u001b[0m\u001b[0m_utils\u001b[0m \u001b[0;32mimport\u001b[0m \u001b[0mfile_from_path\u001b[0m\u001b[0;34m\u001b[0m\u001b[0;34m\u001b[0m\u001b[0m\n",
            "\u001b[0;32m/usr/local/lib/python3.11/dist-packages/openai/types/__init__.py\u001b[0m in \u001b[0;36m<module>\u001b[0;34m\u001b[0m\n\u001b[1;32m      3\u001b[0m \u001b[0;32mfrom\u001b[0m \u001b[0m__future__\u001b[0m \u001b[0;32mimport\u001b[0m \u001b[0mannotations\u001b[0m\u001b[0;34m\u001b[0m\u001b[0;34m\u001b[0m\u001b[0m\n\u001b[1;32m      4\u001b[0m \u001b[0;34m\u001b[0m\u001b[0m\n\u001b[0;32m----> 5\u001b[0;31m \u001b[0;32mfrom\u001b[0m \u001b[0;34m.\u001b[0m\u001b[0mbatch\u001b[0m \u001b[0;32mimport\u001b[0m \u001b[0mBatch\u001b[0m \u001b[0;32mas\u001b[0m \u001b[0mBatch\u001b[0m\u001b[0;34m\u001b[0m\u001b[0;34m\u001b[0m\u001b[0m\n\u001b[0m\u001b[1;32m      6\u001b[0m \u001b[0;32mfrom\u001b[0m \u001b[0;34m.\u001b[0m\u001b[0mimage\u001b[0m \u001b[0;32mimport\u001b[0m \u001b[0mImage\u001b[0m \u001b[0;32mas\u001b[0m \u001b[0mImage\u001b[0m\u001b[0;34m\u001b[0m\u001b[0;34m\u001b[0m\u001b[0m\n\u001b[1;32m      7\u001b[0m \u001b[0;32mfrom\u001b[0m \u001b[0;34m.\u001b[0m\u001b[0mmodel\u001b[0m \u001b[0;32mimport\u001b[0m \u001b[0mModel\u001b[0m \u001b[0;32mas\u001b[0m \u001b[0mModel\u001b[0m\u001b[0;34m\u001b[0m\u001b[0;34m\u001b[0m\u001b[0m\n",
            "\u001b[0;32m/usr/local/lib/python3.11/dist-packages/openai/types/batch.py\u001b[0m in \u001b[0;36m<module>\u001b[0;34m\u001b[0m\n\u001b[1;32m      4\u001b[0m \u001b[0;32mfrom\u001b[0m \u001b[0mtyping_extensions\u001b[0m \u001b[0;32mimport\u001b[0m \u001b[0mLiteral\u001b[0m\u001b[0;34m\u001b[0m\u001b[0;34m\u001b[0m\u001b[0m\n\u001b[1;32m      5\u001b[0m \u001b[0;34m\u001b[0m\u001b[0m\n\u001b[0;32m----> 6\u001b[0;31m \u001b[0;32mfrom\u001b[0m \u001b[0;34m.\u001b[0m\u001b[0;34m.\u001b[0m\u001b[0m_models\u001b[0m \u001b[0;32mimport\u001b[0m \u001b[0mBaseModel\u001b[0m\u001b[0;34m\u001b[0m\u001b[0;34m\u001b[0m\u001b[0m\n\u001b[0m\u001b[1;32m      7\u001b[0m \u001b[0;32mfrom\u001b[0m \u001b[0;34m.\u001b[0m\u001b[0mbatch_error\u001b[0m \u001b[0;32mimport\u001b[0m \u001b[0mBatchError\u001b[0m\u001b[0;34m\u001b[0m\u001b[0;34m\u001b[0m\u001b[0m\n\u001b[1;32m      8\u001b[0m \u001b[0;32mfrom\u001b[0m \u001b[0;34m.\u001b[0m\u001b[0mshared\u001b[0m\u001b[0;34m.\u001b[0m\u001b[0mmetadata\u001b[0m \u001b[0;32mimport\u001b[0m \u001b[0mMetadata\u001b[0m\u001b[0;34m\u001b[0m\u001b[0;34m\u001b[0m\u001b[0m\n",
            "\u001b[0;32m/usr/local/lib/python3.11/dist-packages/openai/_models.py\u001b[0m in \u001b[0;36m<module>\u001b[0;34m\u001b[0m\n\u001b[1;32m     24\u001b[0m \u001b[0;32mfrom\u001b[0m \u001b[0mpydantic\u001b[0m\u001b[0;34m.\u001b[0m\u001b[0mfields\u001b[0m \u001b[0;32mimport\u001b[0m \u001b[0mFieldInfo\u001b[0m\u001b[0;34m\u001b[0m\u001b[0;34m\u001b[0m\u001b[0m\n\u001b[1;32m     25\u001b[0m \u001b[0;34m\u001b[0m\u001b[0m\n\u001b[0;32m---> 26\u001b[0;31m from ._types import (\n\u001b[0m\u001b[1;32m     27\u001b[0m     \u001b[0mBody\u001b[0m\u001b[0;34m,\u001b[0m\u001b[0;34m\u001b[0m\u001b[0;34m\u001b[0m\u001b[0m\n\u001b[1;32m     28\u001b[0m     \u001b[0mIncEx\u001b[0m\u001b[0;34m,\u001b[0m\u001b[0;34m\u001b[0m\u001b[0;34m\u001b[0m\u001b[0m\n",
            "\u001b[0;32m/usr/local/lib/python3.11/dist-packages/openai/_types.py\u001b[0m in \u001b[0;36m<module>\u001b[0;34m\u001b[0m\n\u001b[1;32m     21\u001b[0m \u001b[0;32mimport\u001b[0m \u001b[0mhttpx\u001b[0m\u001b[0;34m\u001b[0m\u001b[0;34m\u001b[0m\u001b[0m\n\u001b[1;32m     22\u001b[0m \u001b[0;32mimport\u001b[0m \u001b[0mpydantic\u001b[0m\u001b[0;34m\u001b[0m\u001b[0;34m\u001b[0m\u001b[0m\n\u001b[0;32m---> 23\u001b[0;31m \u001b[0;32mfrom\u001b[0m \u001b[0mhttpx\u001b[0m \u001b[0;32mimport\u001b[0m \u001b[0mURL\u001b[0m\u001b[0;34m,\u001b[0m \u001b[0mProxy\u001b[0m\u001b[0;34m,\u001b[0m \u001b[0mTimeout\u001b[0m\u001b[0;34m,\u001b[0m \u001b[0mResponse\u001b[0m\u001b[0;34m,\u001b[0m \u001b[0mBaseTransport\u001b[0m\u001b[0;34m,\u001b[0m \u001b[0mAsyncBaseTransport\u001b[0m\u001b[0;34m\u001b[0m\u001b[0;34m\u001b[0m\u001b[0m\n\u001b[0m\u001b[1;32m     24\u001b[0m \u001b[0;34m\u001b[0m\u001b[0m\n\u001b[1;32m     25\u001b[0m \u001b[0;32mif\u001b[0m \u001b[0mTYPE_CHECKING\u001b[0m\u001b[0;34m:\u001b[0m\u001b[0;34m\u001b[0m\u001b[0;34m\u001b[0m\u001b[0m\n",
            "\u001b[0;31mImportError\u001b[0m: cannot import name 'BaseTransport' from 'httpx' (/usr/local/lib/python3.11/dist-packages/httpx/__init__.py)",
            "",
            "\u001b[0;31m---------------------------------------------------------------------------\u001b[0;32m\nNOTE: If your import is failing due to a missing package, you can\nmanually install dependencies using either !pip or !apt.\n\nTo view examples of installing some common dependencies, click the\n\"Open Examples\" button below.\n\u001b[0;31m---------------------------------------------------------------------------\u001b[0m\n"
          ],
          "errorDetails": {
            "actions": [
              {
                "action": "open_url",
                "actionText": "Open Examples",
                "url": "/notebooks/snippets/importing_libraries.ipynb"
              }
            ]
          }
        }
      ],
      "source": [
        "#audio transcription\n",
        "\n",
        "from lyzr import VoiceBot\n",
        "from google.colab import userdata\n",
        "voicebot = VoiceBot(api_key=userdata.get(\"OPENAI_API_KEY\"))\n",
        "print(voicebot.transcribe(\"/content/harvard.wav\"))\n",
        "\n",
        "official_22_indian_languages = [\n",
        "    'as',  # Assamese\n",
        "    'bn',  # Bengali\n",
        "    'gu',  # Gujarati\n",
        "    'hi',  # Hindi\n",
        "    'kn',  # Kannada\n",
        "    'ml',  # Malayalam\n",
        "    'mr',  # Marathi\n",
        "    'ne',  # Nepali\n",
        "    'or',  # Oriya (Odia)\n",
        "    'pa',  # Punjabi\n",
        "    'sd',  # Sindhi\n",
        "    'ta',  # Tamil\n",
        "    'te',  # Telugu\n",
        "    'ur',  # Urdu\n",
        "    'ar',  # Arabic\n",
        "    'en',  # English\n",
        "    'fr',  # French\n",
        "    'de',  # German\n",
        "    'it',  # Italian\n",
        "    'ja',  # Japanese\n",
        "    'ko',  # Korean\n",
        "    # Excluded codes: 'brx', 'doi', 'ks', 'kok', 'mai', 'mni', 'sa', 'sat'\n",
        "]\n",
        "\n",
        "for language in official_22_indian_languages:\n",
        "    try:\n",
        "        translated = translator.translate(\"Hello, how are you?\", dest=language)\n",
        "        print(f\"{language}: {translated.text}\")\n",
        "    except ValueError as e:\n",
        "        print(f\"{language}: {str(e)}\")"
      ]
    },
    {
      "cell_type": "code",
      "execution_count": null,
      "metadata": {
        "colab": {
          "base_uri": "https://localhost:8080/"
        },
        "id": "GSfCa-oecqQt",
        "outputId": "1dd71fef-3c35-483a-d2aa-ec7bf23f812c"
      },
      "outputs": [
        {
          "output_type": "stream",
          "name": "stdout",
          "text": [
            "Collecting gtts\n",
            "  Downloading gTTS-2.5.4-py3-none-any.whl.metadata (4.1 kB)\n",
            "Requirement already satisfied: googletrans==4.0.0-rc1 in /usr/local/lib/python3.11/dist-packages (4.0.0rc1)\n",
            "Requirement already satisfied: httpx==0.13.3 in /usr/local/lib/python3.11/dist-packages (from googletrans==4.0.0-rc1) (0.13.3)\n",
            "Requirement already satisfied: certifi in /usr/local/lib/python3.11/dist-packages (from httpx==0.13.3->googletrans==4.0.0-rc1) (2025.1.31)\n",
            "Requirement already satisfied: hstspreload in /usr/local/lib/python3.11/dist-packages (from httpx==0.13.3->googletrans==4.0.0-rc1) (2025.1.1)\n",
            "Requirement already satisfied: sniffio in /usr/local/lib/python3.11/dist-packages (from httpx==0.13.3->googletrans==4.0.0-rc1) (1.3.1)\n",
            "Requirement already satisfied: chardet==3.* in /usr/local/lib/python3.11/dist-packages (from httpx==0.13.3->googletrans==4.0.0-rc1) (3.0.4)\n",
            "Requirement already satisfied: idna==2.* in /usr/local/lib/python3.11/dist-packages (from httpx==0.13.3->googletrans==4.0.0-rc1) (2.10)\n",
            "Requirement already satisfied: rfc3986<2,>=1.3 in /usr/local/lib/python3.11/dist-packages (from httpx==0.13.3->googletrans==4.0.0-rc1) (1.5.0)\n",
            "Requirement already satisfied: httpcore==0.9.* in /usr/local/lib/python3.11/dist-packages (from httpx==0.13.3->googletrans==4.0.0-rc1) (0.9.1)\n",
            "Requirement already satisfied: h11<0.10,>=0.8 in /usr/local/lib/python3.11/dist-packages (from httpcore==0.9.*->httpx==0.13.3->googletrans==4.0.0-rc1) (0.9.0)\n",
            "Requirement already satisfied: h2==3.* in /usr/local/lib/python3.11/dist-packages (from httpcore==0.9.*->httpx==0.13.3->googletrans==4.0.0-rc1) (3.2.0)\n",
            "Requirement already satisfied: hyperframe<6,>=5.2.0 in /usr/local/lib/python3.11/dist-packages (from h2==3.*->httpcore==0.9.*->httpx==0.13.3->googletrans==4.0.0-rc1) (5.2.0)\n",
            "Requirement already satisfied: hpack<4,>=3.0 in /usr/local/lib/python3.11/dist-packages (from h2==3.*->httpcore==0.9.*->httpx==0.13.3->googletrans==4.0.0-rc1) (3.0.0)\n",
            "Requirement already satisfied: requests<3,>=2.27 in /usr/local/lib/python3.11/dist-packages (from gtts) (2.32.3)\n",
            "Requirement already satisfied: click<8.2,>=7.1 in /usr/local/lib/python3.11/dist-packages (from gtts) (8.1.8)\n",
            "Requirement already satisfied: charset-normalizer<4,>=2 in /usr/local/lib/python3.11/dist-packages (from requests<3,>=2.27->gtts) (3.4.1)\n",
            "Requirement already satisfied: urllib3<3,>=1.21.1 in /usr/local/lib/python3.11/dist-packages (from requests<3,>=2.27->gtts) (2.3.0)\n",
            "Downloading gTTS-2.5.4-py3-none-any.whl (29 kB)\n",
            "Installing collected packages: gtts\n",
            "Successfully installed gtts-2.5.4\n"
          ]
        }
      ],
      "source": [
        "!pip install gtts googletrans==4.0.0-rc1"
      ]
    },
    {
      "cell_type": "code",
      "execution_count": null,
      "metadata": {
        "id": "0uwnGcrIoTUW",
        "colab": {
          "base_uri": "https://localhost:8080/",
          "height": 497
        },
        "outputId": "cb7dde97-d796-45f0-bea7-38f15813900b"
      },
      "outputs": [
        {
          "output_type": "stream",
          "name": "stdout",
          "text": [
            "Requirement already satisfied: gtts in /usr/local/lib/python3.11/dist-packages (2.5.4)\n",
            "Requirement already satisfied: requests<3,>=2.27 in /usr/local/lib/python3.11/dist-packages (from gtts) (2.32.3)\n",
            "Requirement already satisfied: click<8.2,>=7.1 in /usr/local/lib/python3.11/dist-packages (from gtts) (8.1.8)\n",
            "Requirement already satisfied: charset-normalizer<4,>=2 in /usr/local/lib/python3.11/dist-packages (from requests<3,>=2.27->gtts) (3.4.1)\n",
            "Requirement already satisfied: idna<4,>=2.5 in /usr/local/lib/python3.11/dist-packages (from requests<3,>=2.27->gtts) (2.10)\n",
            "Requirement already satisfied: urllib3<3,>=1.21.1 in /usr/local/lib/python3.11/dist-packages (from requests<3,>=2.27->gtts) (2.3.0)\n",
            "Requirement already satisfied: certifi>=2017.4.17 in /usr/local/lib/python3.11/dist-packages (from requests<3,>=2.27->gtts) (2025.1.31)\n"
          ]
        },
        {
          "output_type": "error",
          "ename": "KeyboardInterrupt",
          "evalue": "Interrupted by user",
          "traceback": [
            "\u001b[0;31m---------------------------------------------------------------------------\u001b[0m",
            "\u001b[0;31mKeyboardInterrupt\u001b[0m                         Traceback (most recent call last)",
            "\u001b[0;32m<ipython-input-11-b5935f71aa4e>\u001b[0m in \u001b[0;36m<cell line: 0>\u001b[0;34m()\u001b[0m\n\u001b[1;32m     56\u001b[0m \u001b[0;34m\u001b[0m\u001b[0m\n\u001b[1;32m     57\u001b[0m \u001b[0;31m# Get input text from user\u001b[0m\u001b[0;34m\u001b[0m\u001b[0;34m\u001b[0m\u001b[0m\n\u001b[0;32m---> 58\u001b[0;31m \u001b[0minput_text\u001b[0m \u001b[0;34m=\u001b[0m \u001b[0minput\u001b[0m\u001b[0;34m(\u001b[0m\u001b[0;34m\"Enter the English text to convert to Morse code: \"\u001b[0m\u001b[0;34m)\u001b[0m\u001b[0;34m\u001b[0m\u001b[0;34m\u001b[0m\u001b[0m\n\u001b[0m\u001b[1;32m     59\u001b[0m \u001b[0;34m\u001b[0m\u001b[0m\n\u001b[1;32m     60\u001b[0m \u001b[0;31m# Convert to Morse code\u001b[0m\u001b[0;34m\u001b[0m\u001b[0;34m\u001b[0m\u001b[0m\n",
            "\u001b[0;32m/usr/local/lib/python3.11/dist-packages/ipykernel/kernelbase.py\u001b[0m in \u001b[0;36mraw_input\u001b[0;34m(self, prompt)\u001b[0m\n\u001b[1;32m   1175\u001b[0m                 \u001b[0;34m\"raw_input was called, but this frontend does not support input requests.\"\u001b[0m\u001b[0;34m\u001b[0m\u001b[0;34m\u001b[0m\u001b[0m\n\u001b[1;32m   1176\u001b[0m             )\n\u001b[0;32m-> 1177\u001b[0;31m         return self._input_request(\n\u001b[0m\u001b[1;32m   1178\u001b[0m             \u001b[0mstr\u001b[0m\u001b[0;34m(\u001b[0m\u001b[0mprompt\u001b[0m\u001b[0;34m)\u001b[0m\u001b[0;34m,\u001b[0m\u001b[0;34m\u001b[0m\u001b[0;34m\u001b[0m\u001b[0m\n\u001b[1;32m   1179\u001b[0m             \u001b[0mself\u001b[0m\u001b[0;34m.\u001b[0m\u001b[0m_parent_ident\u001b[0m\u001b[0;34m[\u001b[0m\u001b[0;34m\"shell\"\u001b[0m\u001b[0;34m]\u001b[0m\u001b[0;34m,\u001b[0m\u001b[0;34m\u001b[0m\u001b[0;34m\u001b[0m\u001b[0m\n",
            "\u001b[0;32m/usr/local/lib/python3.11/dist-packages/ipykernel/kernelbase.py\u001b[0m in \u001b[0;36m_input_request\u001b[0;34m(self, prompt, ident, parent, password)\u001b[0m\n\u001b[1;32m   1217\u001b[0m             \u001b[0;32mexcept\u001b[0m \u001b[0mKeyboardInterrupt\u001b[0m\u001b[0;34m:\u001b[0m\u001b[0;34m\u001b[0m\u001b[0;34m\u001b[0m\u001b[0m\n\u001b[1;32m   1218\u001b[0m                 \u001b[0;31m# re-raise KeyboardInterrupt, to truncate traceback\u001b[0m\u001b[0;34m\u001b[0m\u001b[0;34m\u001b[0m\u001b[0m\n\u001b[0;32m-> 1219\u001b[0;31m                 \u001b[0;32mraise\u001b[0m \u001b[0mKeyboardInterrupt\u001b[0m\u001b[0;34m(\u001b[0m\u001b[0;34m\"Interrupted by user\"\u001b[0m\u001b[0;34m)\u001b[0m \u001b[0;32mfrom\u001b[0m \u001b[0;32mNone\u001b[0m\u001b[0;34m\u001b[0m\u001b[0;34m\u001b[0m\u001b[0m\n\u001b[0m\u001b[1;32m   1220\u001b[0m             \u001b[0;32mexcept\u001b[0m \u001b[0mException\u001b[0m\u001b[0;34m:\u001b[0m\u001b[0;34m\u001b[0m\u001b[0;34m\u001b[0m\u001b[0m\n\u001b[1;32m   1221\u001b[0m                 \u001b[0mself\u001b[0m\u001b[0;34m.\u001b[0m\u001b[0mlog\u001b[0m\u001b[0;34m.\u001b[0m\u001b[0mwarning\u001b[0m\u001b[0;34m(\u001b[0m\u001b[0;34m\"Invalid Message:\"\u001b[0m\u001b[0;34m,\u001b[0m \u001b[0mexc_info\u001b[0m\u001b[0;34m=\u001b[0m\u001b[0;32mTrue\u001b[0m\u001b[0;34m)\u001b[0m\u001b[0;34m\u001b[0m\u001b[0;34m\u001b[0m\u001b[0m\n",
            "\u001b[0;31mKeyboardInterrupt\u001b[0m: Interrupted by user"
          ]
        }
      ],
      "source": [
        "# Install necessary packages\n",
        "!pip install gtts\n",
        "\n",
        "# Import required libraries\n",
        "import numpy as np\n",
        "import matplotlib.pyplot as plt\n",
        "from gtts import gTTS\n",
        "from IPython.display import Audio, display\n",
        "import scipy.io.wavfile as wav\n",
        "\n",
        "# Define Morse code mapping\n",
        "MORSE_CODE_DICT = {\n",
        "    'A': '.-', 'B': '-...', 'C': '-.-.', 'D': '-..', 'E': '.', 'F': '..-.',\n",
        "    'G': '--.', 'H': '....', 'I': '..', 'J': '.---', 'K': '-.-', 'L': '.-..',\n",
        "    'M': '--', 'N': '-.', 'O': '---', 'P': '.--.', 'Q': '--.-', 'R': '.-.',\n",
        "    'S': '...', 'T': '-', 'U': '..-', 'V': '...-', 'W': '.--', 'X': '-..-',\n",
        "    'Y': '-.--', 'Z': '--..',\n",
        "    '0': '-----', '1': '.----', '2': '..---', '3': '...--', '4': '....-',\n",
        "    '5': '.....', '6': '-....', '7': '--...', '8': '---..', '9': '----.',\n",
        "    '.': '.-.-.-', ',': '--..--', '?': '..--..', \"'\": '.----.', '!': '-.-.--',\n",
        "    '/': '-..-.', '(': '-.--.', ')': '-.--.-', '&': '.-...', ':': '---...',\n",
        "    ';': '-.-.-.', '=': '-...-', '+': '.-.-.', '-': '-....-', '_': '..--.-',\n",
        "    '\"': '.-..-.', '@': '.--.-.', ' ': '/'\n",
        "}\n",
        "\n",
        "# Function to convert English text to Morse code\n",
        "def text_to_morse_code(text):\n",
        "    text = text.upper()\n",
        "    morse_code = ' '.join(MORSE_CODE_DICT.get(char, '') for char in text)\n",
        "    return morse_code\n",
        "\n",
        "# Function to generate audio for Morse code\n",
        "def morse_code_to_audio(morse_code, dot_length=0.1, frequency=1000):\n",
        "    def create_signal(frequency, duration):\n",
        "        t = np.linspace(0, duration, int(44100 * duration), endpoint=False)\n",
        "        return 0.5 * np.sin(2 * np.pi * frequency * t)\n",
        "\n",
        "    audio_signal = np.array([])\n",
        "\n",
        "    for char in morse_code:\n",
        "        if char == '.':\n",
        "            audio_signal = np.concatenate([audio_signal, create_signal(frequency, dot_length)])\n",
        "        elif char == '-':\n",
        "            audio_signal = np.concatenate([audio_signal, create_signal(frequency, 3 * dot_length)])\n",
        "        elif char == ' ':\n",
        "            audio_signal = np.concatenate([audio_signal, np.zeros(int(44100 * dot_length))])\n",
        "        elif char == '/':\n",
        "            audio_signal = np.concatenate([audio_signal, np.zeros(int(44100 * dot_length * 3))])\n",
        "\n",
        "    return audio_signal\n",
        "\n",
        "# Function to save and play audio\n",
        "def save_and_play_audio(audio_signal, filename='morse_code.wav'):\n",
        "    wav.write(filename, 44100, (audio_signal * 32767).astype(np.int16))\n",
        "    display(Audio(filename, autoplay=True))\n",
        "\n",
        "# Get input text from user\n",
        "input_text = input(\"Enter the English text to convert to Morse code: \")\n",
        "\n",
        "# Convert to Morse code\n",
        "morse_code = text_to_morse_code(input_text)\n",
        "print(\"Morse Code:\")\n",
        "print(morse_code)\n",
        "\n",
        "# Generate Morse code audio\n",
        "audio_signal = morse_code_to_audio(morse_code)\n",
        "save_and_play_audio(audio_signal)"
      ]
    },
    {
      "cell_type": "code",
      "source": [
        "import requests\n",
        "import base64\n",
        "from dotenv import load_dotenv\n",
        "import os\n",
        "\n",
        "load_dotenv()\n",
        "\n",
        "\n",
        "def speech_to_text_translate(base64_audio):\n",
        "    url = \"https://api.sarvam.ai/speech-to-text-translate\"\n",
        "\n",
        "    data = {\n",
        "        \"model\": \"saaras:v1\",\n",
        "    }\n",
        "\n",
        "    files = {\n",
        "        \"file\": (\"input.wav\", base64.b64decode(base64_audio), \"audio/wav\")\n",
        "    }\n",
        "\n",
        "    headers = {\n",
        "        'api-subscription-key': os.getenv('SARVAM_API_KEY')\n",
        "    }\n",
        "\n",
        "    try:\n",
        "        response = requests.post(url, data=data, files=files, headers=headers)\n",
        "        return response.json()['transcript']\n",
        "    except requests.exceptions.RequestException as e:\n",
        "        return {\"error\": str(e)}\n"
      ],
      "metadata": {
        "id": "oav6PR0XLyun",
        "outputId": "d43ed25f-18dd-4be3-ed71-be4517d1458d",
        "colab": {
          "base_uri": "https://localhost:8080/",
          "height": 399
        }
      },
      "execution_count": null,
      "outputs": [
        {
          "output_type": "error",
          "ename": "ModuleNotFoundError",
          "evalue": "No module named 'dotenv'",
          "traceback": [
            "\u001b[0;31m---------------------------------------------------------------------------\u001b[0m",
            "\u001b[0;31mModuleNotFoundError\u001b[0m                       Traceback (most recent call last)",
            "\u001b[0;32m<ipython-input-12-be61455115aa>\u001b[0m in \u001b[0;36m<cell line: 0>\u001b[0;34m()\u001b[0m\n\u001b[1;32m      1\u001b[0m \u001b[0;32mimport\u001b[0m \u001b[0mrequests\u001b[0m\u001b[0;34m\u001b[0m\u001b[0;34m\u001b[0m\u001b[0m\n\u001b[1;32m      2\u001b[0m \u001b[0;32mimport\u001b[0m \u001b[0mbase64\u001b[0m\u001b[0;34m\u001b[0m\u001b[0;34m\u001b[0m\u001b[0m\n\u001b[0;32m----> 3\u001b[0;31m \u001b[0;32mfrom\u001b[0m \u001b[0mdotenv\u001b[0m \u001b[0;32mimport\u001b[0m \u001b[0mload_dotenv\u001b[0m\u001b[0;34m\u001b[0m\u001b[0;34m\u001b[0m\u001b[0m\n\u001b[0m\u001b[1;32m      4\u001b[0m \u001b[0;32mimport\u001b[0m \u001b[0mos\u001b[0m\u001b[0;34m\u001b[0m\u001b[0;34m\u001b[0m\u001b[0m\n\u001b[1;32m      5\u001b[0m \u001b[0;34m\u001b[0m\u001b[0m\n",
            "\u001b[0;31mModuleNotFoundError\u001b[0m: No module named 'dotenv'",
            "",
            "\u001b[0;31m---------------------------------------------------------------------------\u001b[0;32m\nNOTE: If your import is failing due to a missing package, you can\nmanually install dependencies using either !pip or !apt.\n\nTo view examples of installing some common dependencies, click the\n\"Open Examples\" button below.\n\u001b[0;31m---------------------------------------------------------------------------\u001b[0m\n"
          ],
          "errorDetails": {
            "actions": [
              {
                "action": "open_url",
                "actionText": "Open Examples",
                "url": "/notebooks/snippets/importing_libraries.ipynb"
              }
            ]
          }
        }
      ]
    },
    {
      "cell_type": "code",
      "source": [],
      "metadata": {
        "id": "X_zNQ2upOkgp"
      },
      "execution_count": null,
      "outputs": []
    }
  ],
  "metadata": {
    "accelerator": "GPU",
    "colab": {
      "gpuType": "T4",
      "provenance": []
    },
    "kernelspec": {
      "display_name": "Python 3",
      "name": "python3"
    },
    "language_info": {
      "name": "python"
    }
  },
  "nbformat": 4,
  "nbformat_minor": 0
}